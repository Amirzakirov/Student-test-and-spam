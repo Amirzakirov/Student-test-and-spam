{
 "cells": [
  {
   "cell_type": "code",
   "execution_count": 1,
   "id": "ccf78e09",
   "metadata": {},
   "outputs": [],
   "source": [
    "# Импортируем библиотеки\n",
    "import pandas as pd\n",
    "import numpy as np\n",
    "import matplotlib.pyplot as plt\n",
    "import seaborn as sns\n",
    "from scipy import stats\n",
    "%matplotlib inline"
   ]
  },
  {
   "cell_type": "code",
   "execution_count": 2,
   "id": "1cc3e987",
   "metadata": {},
   "outputs": [
    {
     "data": {
      "text/html": [
       "<div>\n",
       "<style scoped>\n",
       "    .dataframe tbody tr th:only-of-type {\n",
       "        vertical-align: middle;\n",
       "    }\n",
       "\n",
       "    .dataframe tbody tr th {\n",
       "        vertical-align: top;\n",
       "    }\n",
       "\n",
       "    .dataframe thead th {\n",
       "        text-align: right;\n",
       "    }\n",
       "</style>\n",
       "<table border=\"1\" class=\"dataframe\">\n",
       "  <thead>\n",
       "    <tr style=\"text-align: right;\">\n",
       "      <th></th>\n",
       "      <th>Name</th>\n",
       "      <th>Platform</th>\n",
       "      <th>Year_of_Release</th>\n",
       "      <th>Genre</th>\n",
       "      <th>Publisher</th>\n",
       "      <th>NA_Sales</th>\n",
       "      <th>EU_Sales</th>\n",
       "      <th>JP_Sales</th>\n",
       "      <th>Other_Sales</th>\n",
       "      <th>Global_Sales</th>\n",
       "      <th>Critic_Score</th>\n",
       "      <th>Critic_Count</th>\n",
       "      <th>User_Score</th>\n",
       "      <th>User_Count</th>\n",
       "      <th>Developer</th>\n",
       "      <th>Rating</th>\n",
       "    </tr>\n",
       "  </thead>\n",
       "  <tbody>\n",
       "    <tr>\n",
       "      <th>0</th>\n",
       "      <td>Wii Sports</td>\n",
       "      <td>Wii</td>\n",
       "      <td>2006.0</td>\n",
       "      <td>Sports</td>\n",
       "      <td>Nintendo</td>\n",
       "      <td>41.36</td>\n",
       "      <td>28.96</td>\n",
       "      <td>3.77</td>\n",
       "      <td>8.45</td>\n",
       "      <td>82.53</td>\n",
       "      <td>76.0</td>\n",
       "      <td>51.0</td>\n",
       "      <td>8</td>\n",
       "      <td>322.0</td>\n",
       "      <td>Nintendo</td>\n",
       "      <td>E</td>\n",
       "    </tr>\n",
       "    <tr>\n",
       "      <th>1</th>\n",
       "      <td>Super Mario Bros.</td>\n",
       "      <td>NES</td>\n",
       "      <td>1985.0</td>\n",
       "      <td>Platform</td>\n",
       "      <td>Nintendo</td>\n",
       "      <td>29.08</td>\n",
       "      <td>3.58</td>\n",
       "      <td>6.81</td>\n",
       "      <td>0.77</td>\n",
       "      <td>40.24</td>\n",
       "      <td>NaN</td>\n",
       "      <td>NaN</td>\n",
       "      <td>NaN</td>\n",
       "      <td>NaN</td>\n",
       "      <td>NaN</td>\n",
       "      <td>NaN</td>\n",
       "    </tr>\n",
       "    <tr>\n",
       "      <th>2</th>\n",
       "      <td>Mario Kart Wii</td>\n",
       "      <td>Wii</td>\n",
       "      <td>2008.0</td>\n",
       "      <td>Racing</td>\n",
       "      <td>Nintendo</td>\n",
       "      <td>15.68</td>\n",
       "      <td>12.76</td>\n",
       "      <td>3.79</td>\n",
       "      <td>3.29</td>\n",
       "      <td>35.52</td>\n",
       "      <td>82.0</td>\n",
       "      <td>73.0</td>\n",
       "      <td>8.3</td>\n",
       "      <td>709.0</td>\n",
       "      <td>Nintendo</td>\n",
       "      <td>E</td>\n",
       "    </tr>\n",
       "    <tr>\n",
       "      <th>3</th>\n",
       "      <td>Wii Sports Resort</td>\n",
       "      <td>Wii</td>\n",
       "      <td>2009.0</td>\n",
       "      <td>Sports</td>\n",
       "      <td>Nintendo</td>\n",
       "      <td>15.61</td>\n",
       "      <td>10.93</td>\n",
       "      <td>3.28</td>\n",
       "      <td>2.95</td>\n",
       "      <td>32.77</td>\n",
       "      <td>80.0</td>\n",
       "      <td>73.0</td>\n",
       "      <td>8</td>\n",
       "      <td>192.0</td>\n",
       "      <td>Nintendo</td>\n",
       "      <td>E</td>\n",
       "    </tr>\n",
       "    <tr>\n",
       "      <th>4</th>\n",
       "      <td>Pokemon Red/Pokemon Blue</td>\n",
       "      <td>GB</td>\n",
       "      <td>1996.0</td>\n",
       "      <td>Role-Playing</td>\n",
       "      <td>Nintendo</td>\n",
       "      <td>11.27</td>\n",
       "      <td>8.89</td>\n",
       "      <td>10.22</td>\n",
       "      <td>1.00</td>\n",
       "      <td>31.37</td>\n",
       "      <td>NaN</td>\n",
       "      <td>NaN</td>\n",
       "      <td>NaN</td>\n",
       "      <td>NaN</td>\n",
       "      <td>NaN</td>\n",
       "      <td>NaN</td>\n",
       "    </tr>\n",
       "  </tbody>\n",
       "</table>\n",
       "</div>"
      ],
      "text/plain": [
       "                       Name Platform  Year_of_Release         Genre Publisher  \\\n",
       "0                Wii Sports      Wii           2006.0        Sports  Nintendo   \n",
       "1         Super Mario Bros.      NES           1985.0      Platform  Nintendo   \n",
       "2            Mario Kart Wii      Wii           2008.0        Racing  Nintendo   \n",
       "3         Wii Sports Resort      Wii           2009.0        Sports  Nintendo   \n",
       "4  Pokemon Red/Pokemon Blue       GB           1996.0  Role-Playing  Nintendo   \n",
       "\n",
       "   NA_Sales  EU_Sales  JP_Sales  Other_Sales  Global_Sales  Critic_Score  \\\n",
       "0     41.36     28.96      3.77         8.45         82.53          76.0   \n",
       "1     29.08      3.58      6.81         0.77         40.24           NaN   \n",
       "2     15.68     12.76      3.79         3.29         35.52          82.0   \n",
       "3     15.61     10.93      3.28         2.95         32.77          80.0   \n",
       "4     11.27      8.89     10.22         1.00         31.37           NaN   \n",
       "\n",
       "   Critic_Count User_Score  User_Count Developer Rating  \n",
       "0          51.0          8       322.0  Nintendo      E  \n",
       "1           NaN        NaN         NaN       NaN    NaN  \n",
       "2          73.0        8.3       709.0  Nintendo      E  \n",
       "3          73.0          8       192.0  Nintendo      E  \n",
       "4           NaN        NaN         NaN       NaN    NaN  "
      ]
     },
     "execution_count": 2,
     "metadata": {},
     "output_type": "execute_result"
    }
   ],
   "source": [
    "df = pd.read_csv('https://raw.githubusercontent.com/obulygin/pyda_homeworks/master/stat_case_study/vgsales.csv')\n",
    "df.head()"
   ]
  },
  {
   "cell_type": "code",
   "execution_count": 3,
   "id": "53d23bd6",
   "metadata": {},
   "outputs": [
    {
     "name": "stdout",
     "output_type": "stream",
     "text": [
      "<class 'pandas.core.frame.DataFrame'>\n",
      "RangeIndex: 16719 entries, 0 to 16718\n",
      "Data columns (total 16 columns):\n",
      " #   Column           Non-Null Count  Dtype  \n",
      "---  ------           --------------  -----  \n",
      " 0   Name             16717 non-null  object \n",
      " 1   Platform         16719 non-null  object \n",
      " 2   Year_of_Release  16450 non-null  float64\n",
      " 3   Genre            16717 non-null  object \n",
      " 4   Publisher        16665 non-null  object \n",
      " 5   NA_Sales         16719 non-null  float64\n",
      " 6   EU_Sales         16719 non-null  float64\n",
      " 7   JP_Sales         16719 non-null  float64\n",
      " 8   Other_Sales      16719 non-null  float64\n",
      " 9   Global_Sales     16719 non-null  float64\n",
      " 10  Critic_Score     8137 non-null   float64\n",
      " 11  Critic_Count     8137 non-null   float64\n",
      " 12  User_Score       10015 non-null  object \n",
      " 13  User_Count       7590 non-null   float64\n",
      " 14  Developer        10096 non-null  object \n",
      " 15  Rating           9950 non-null   object \n",
      "dtypes: float64(9), object(7)\n",
      "memory usage: 2.0+ MB\n"
     ]
    }
   ],
   "source": [
    "df.info()"
   ]
  },
  {
   "cell_type": "code",
   "execution_count": 4,
   "id": "0902388e",
   "metadata": {},
   "outputs": [],
   "source": [
    "# Приводим атрибут к числовому типу данных\n",
    "df['User_Score'] = pd.to_numeric(df['User_Score'], errors='coerce')"
   ]
  },
  {
   "cell_type": "code",
   "execution_count": 5,
   "id": "1fcfef7c",
   "metadata": {},
   "outputs": [
    {
     "name": "stdout",
     "output_type": "stream",
     "text": [
      "<class 'pandas.core.frame.DataFrame'>\n",
      "RangeIndex: 16719 entries, 0 to 16718\n",
      "Data columns (total 16 columns):\n",
      " #   Column           Non-Null Count  Dtype  \n",
      "---  ------           --------------  -----  \n",
      " 0   Name             16717 non-null  object \n",
      " 1   Platform         16719 non-null  object \n",
      " 2   Year_of_Release  16450 non-null  float64\n",
      " 3   Genre            16717 non-null  object \n",
      " 4   Publisher        16665 non-null  object \n",
      " 5   NA_Sales         16719 non-null  float64\n",
      " 6   EU_Sales         16719 non-null  float64\n",
      " 7   JP_Sales         16719 non-null  float64\n",
      " 8   Other_Sales      16719 non-null  float64\n",
      " 9   Global_Sales     16719 non-null  float64\n",
      " 10  Critic_Score     8137 non-null   float64\n",
      " 11  Critic_Count     8137 non-null   float64\n",
      " 12  User_Score       7590 non-null   float64\n",
      " 13  User_Count       7590 non-null   float64\n",
      " 14  Developer        10096 non-null  object \n",
      " 15  Rating           9950 non-null   object \n",
      "dtypes: float64(10), object(6)\n",
      "memory usage: 2.0+ MB\n"
     ]
    }
   ],
   "source": [
    "df.info()"
   ]
  },
  {
   "cell_type": "code",
   "execution_count": 6,
   "id": "7b963f70",
   "metadata": {},
   "outputs": [],
   "source": [
    "# Как критики относятся к спортивным играм?\n",
    "# Сравним оценки критиков и пользователей по спортивным играм\n",
    "# Гипотеза H0 - оценки критиков и пользователей не различаются\n",
    "# Гипотеза H1 - оценки критиков и пользователей различаются\n",
    "# Выберем уровень значимости alpha = 0.01\n",
    "\n",
    "# Формируем 2 выборки с оценками\n",
    "critic_score_sports = df[df['Genre'] == 'Sports']['Critic_Score']\n",
    "critic_score_other = df[df['Genre'] != 'Sports']['Critic_Score']"
   ]
  },
  {
   "cell_type": "code",
   "execution_count": 7,
   "id": "83a9c59b",
   "metadata": {},
   "outputs": [
    {
     "data": {
      "text/plain": [
       "(8.08698828481822, 1.1811713083203639e-15)"
      ]
     },
     "execution_count": 7,
     "metadata": {},
     "output_type": "execute_result"
    }
   ],
   "source": [
    "# Проводим тест\n",
    "alpha = 0.01\n",
    "t, p_value = stats.ttest_ind(critic_score_sports, critic_score_other, nan_policy='omit', equal_var=False)\n",
    "t, p_value"
   ]
  },
  {
   "cell_type": "code",
   "execution_count": 8,
   "id": "8b182db5",
   "metadata": {},
   "outputs": [
    {
     "name": "stdout",
     "output_type": "stream",
     "text": [
      "Гипотеза H0 отвергается, оценки критиков и пользователей различаются\n"
     ]
    }
   ],
   "source": [
    "if p_value <= alpha:\n",
    "    print('Гипотеза H0 отвергается, оценки критиков и пользователей различаются')\n",
    "else:\n",
    "    print('Гипотеза H0 подтверждается, оценки критиков и пользователей не различаются')"
   ]
  },
  {
   "cell_type": "code",
   "execution_count": 9,
   "id": "bbe82d0e",
   "metadata": {},
   "outputs": [
    {
     "data": {
      "text/plain": [
       "(71.96817420435511, 68.4516779490134)"
      ]
     },
     "execution_count": 9,
     "metadata": {},
     "output_type": "execute_result"
    }
   ],
   "source": [
    "critic_score_sports.mean(), critic_score_other.mean()"
   ]
  },
  {
   "cell_type": "code",
   "execution_count": 10,
   "id": "91ce6756",
   "metadata": {},
   "outputs": [
    {
     "data": {
      "text/plain": [
       "(array([  4.,   3.,   4.,   7.,  14.,  17.,  24.,  29.,  36.,  55.,  69.,\n",
       "         84., 119., 112., 158., 187., 125., 107.,  35.,   5.]),\n",
       " array([19.  , 22.95, 26.9 , 30.85, 34.8 , 38.75, 42.7 , 46.65, 50.6 ,\n",
       "        54.55, 58.5 , 62.45, 66.4 , 70.35, 74.3 , 78.25, 82.2 , 86.15,\n",
       "        90.1 , 94.05, 98.  ]),\n",
       " <BarContainer object of 20 artists>)"
      ]
     },
     "execution_count": 10,
     "metadata": {},
     "output_type": "execute_result"
    },
    {
     "data": {
      "image/png": "[encoded data removed]",
      "text/plain": [
       "<Figure size 432x288 with 1 Axes>"
      ]
     },
     "metadata": {
      "needs_background": "light"
     },
     "output_type": "display_data"
    }
   ],
   "source": [
    "plt.hist(critic_score_other, bins=20)\n",
    "plt.hist(critic_score_sports, bins=20)"
   ]
  },
  {
   "cell_type": "code",
   "execution_count": 11,
   "id": "100b28cf",
   "metadata": {},
   "outputs": [],
   "source": [
    "# Критики отностяся к спортивным играм лучше, чем пользователи"
   ]
  },
  {
   "cell_type": "code",
   "execution_count": 12,
   "id": "3a35a0c0",
   "metadata": {},
   "outputs": [],
   "source": [
    "# Критикам нравятся больше игры на PC или на PS4?\n",
    "# Сравним оценки критиков игр на PC и PS4\n",
    "# Гипотеза H0 - оценки критиков игр на PC и PS4 не различаются\n",
    "# Гипотеза H1 - оценки критиков игр на PC и PS4 различаются\n",
    "# Выберем уровень значимости alpha = 0.01\n",
    "pc_critic_score = df[df['Platform'] == 'PC']['Critic_Score']\n",
    "ps4_critic_score = df[df['Platform'] == 'PS4']['Critic_Score']"
   ]
  },
  {
   "cell_type": "code",
   "execution_count": 13,
   "id": "eded3be8",
   "metadata": {},
   "outputs": [
    {
     "data": {
      "text/plain": [
       "(4.3087588262138725, 2.0672491572827482e-05)"
      ]
     },
     "execution_count": 13,
     "metadata": {},
     "output_type": "execute_result"
    }
   ],
   "source": [
    "# Проводим тест\n",
    "alpha = 0.01\n",
    "t, p_value = stats.ttest_ind(pc_critic_score, ps4_critic_score, nan_policy='omit', equal_var=False)\n",
    "t, p_value"
   ]
  },
  {
   "cell_type": "code",
   "execution_count": 14,
   "id": "9dd888ed",
   "metadata": {},
   "outputs": [
    {
     "name": "stdout",
     "output_type": "stream",
     "text": [
      "Гипотеза H0 отвергается, оценки критиков игр на PC и PS4 различаются\n"
     ]
    }
   ],
   "source": [
    "if p_value <= alpha:\n",
    "    print('Гипотеза H0 отвергается, оценки критиков игр на PC и PS4 различаются')\n",
    "else:\n",
    "    print('Гипотеза H0 подтверждается, оценки критиков игр на PC и PS4 не различаются')"
   ]
  },
  {
   "cell_type": "code",
   "execution_count": 15,
   "id": "3a35ca3f",
   "metadata": {},
   "outputs": [
    {
     "data": {
      "text/plain": [
       "(75.92867132867133, 72.09126984126983)"
      ]
     },
     "execution_count": 15,
     "metadata": {},
     "output_type": "execute_result"
    }
   ],
   "source": [
    "pc_critic_score.mean(), ps4_critic_score.mean()"
   ]
  },
  {
   "cell_type": "code",
   "execution_count": 16,
   "id": "5a21208e",
   "metadata": {},
   "outputs": [
    {
     "data": {
      "text/plain": [
       "<AxesSubplot:>"
      ]
     },
     "execution_count": 16,
     "metadata": {},
     "output_type": "execute_result"
    },
    {
     "data": {
      "image/png": "[encoded data removed]",
      "text/plain": [
       "<Figure size 432x288 with 1 Axes>"
      ]
     },
     "metadata": {
      "needs_background": "light"
     },
     "output_type": "display_data"
    }
   ],
   "source": [
    "pc_critic_score.hist(bins=20)\n",
    "ps4_critic_score.hist(bins=20)"
   ]
  },
  {
   "cell_type": "code",
   "execution_count": 17,
   "id": "90f6fd4f",
   "metadata": {},
   "outputs": [],
   "source": [
    "# Критикам больше нравятся игры на PC"
   ]
  },
  {
   "cell_type": "code",
   "execution_count": 18,
   "id": "5e0788d4",
   "metadata": {},
   "outputs": [],
   "source": [
    "# Критикам больше нравятся стрелялки или стратегии?\n",
    "# Сравним оценки критиков игр жанров стрелялки и стратегии\n",
    "# Гипотеза H0 - оценки критиков игр жанров стрелялки и стратегии не различаются\n",
    "# Гипотеза H1 - оценки критиков игр жанров стрелялки и стратегии различаются\n",
    "# Выберем уровень значимости alpha = 0.01\n",
    "shooter_critic_score = df[df['Genre'] == 'Shooter']['Critic_Score']\n",
    "strategy_critic_score = df[df['Genre'] == 'Strategy']['Critic_Score']"
   ]
  },
  {
   "cell_type": "code",
   "execution_count": 19,
   "id": "661858aa",
   "metadata": {},
   "outputs": [
    {
     "data": {
      "text/plain": [
       "(-2.2972408230640315, 0.021938989522305212)"
      ]
     },
     "execution_count": 19,
     "metadata": {},
     "output_type": "execute_result"
    }
   ],
   "source": [
    "# Проводим тест\n",
    "alpha = 0.01\n",
    "t, p_value = stats.ttest_ind(shooter_critic_score, strategy_critic_score, nan_policy='omit', equal_var=False)\n",
    "t, p_value"
   ]
  },
  {
   "cell_type": "code",
   "execution_count": 20,
   "id": "d89cb4ce",
   "metadata": {},
   "outputs": [
    {
     "name": "stdout",
     "output_type": "stream",
     "text": [
      "Гипотеза H0 подтверждается, оценки критиков игр жанров стрелялки и стратегии не различаются\n"
     ]
    }
   ],
   "source": [
    "if p_value <= alpha:\n",
    "    print('Гипотеза H0 отвергается, оценки критиков игр жанров стрелялки и стратегии различаются')\n",
    "else:\n",
    "    print('Гипотеза H0 подтверждается, оценки критиков игр жанров стрелялки и стратегии не различаются')"
   ]
  },
  {
   "cell_type": "code",
   "execution_count": 21,
   "id": "e3dc9f4c",
   "metadata": {},
   "outputs": [
    {
     "data": {
      "text/plain": [
       "<AxesSubplot:>"
      ]
     },
     "execution_count": 21,
     "metadata": {},
     "output_type": "execute_result"
    },
    {
     "data": {
      "image/png": "[encoded data removed]",
      "text/plain": [
       "<Figure size 432x288 with 1 Axes>"
      ]
     },
     "metadata": {
      "needs_background": "light"
     },
     "output_type": "display_data"
    }
   ],
   "source": [
    "shooter_critic_score.hist(bins=20)\n",
    "strategy_critic_score.hist(bins=20)"
   ]
  }
 ],
 "metadata": {
  "kernelspec": {
   "display_name": "Python 3 (ipykernel)",
   "language": "python",
   "name": "python3"
  },
  "language_info": {
   "codemirror_mode": {
    "name": "ipython",
    "version": 3
   },
   "file_extension": ".py",
   "mimetype": "text/x-python",
   "name": "python",
   "nbconvert_exporter": "python",
   "pygments_lexer": "ipython3",
   "version": "3.9.7"
  }
 },
 "nbformat": 4,
 "nbformat_minor": 5
}
